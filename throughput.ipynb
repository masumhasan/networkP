{
 "cells": [
  {
   "cell_type": "code",
   "execution_count": null,
   "metadata": {},
   "outputs": [],
   "source": [
    "import  traceanalyzer as tr\n",
    "#Throughput\n",
    "throughput1=tr.Throughput('a.tr','33')\n",
    "throughput1.sample()#eedelay2.sample(1.5) for sampling with step=1.5\n",
    "throughput1.plot()\n",
    "#getting data\n",
    "time=throughput1.time_sample\n",
    "throughput=throughput1.throughput_sample\n",
    "idx=0\n",
    "for instant in time:\n",
    "    print(instant,' ',throughput[idx]) \n",
    "    idx+=1"
   ]
  },
  {
   "cell_type": "code",
   "execution_count": null,
   "metadata": {},
   "outputs": [],
   "source": [
    "#Throughput\n",
    "throughput1=tr.Throughput('b.tr','33')\n",
    "throughput1.sample()#eedelay2.sample(1.5) for sampling with step=1.5\n",
    "throughput1.plot()\n",
    "#getting data\n",
    "time=throughput1.time_sample\n",
    "throughput=throughput1.throughput_sample\n",
    "idx=0\n",
    "for instant in time:\n",
    "    print(instant,' ',throughput[idx]) \n",
    "    idx+=1"
   ]
  },
  {
   "cell_type": "code",
   "execution_count": null,
   "metadata": {},
   "outputs": [],
   "source": [
    "#Throughput\n",
    "throughput1=tr.Throughput('c.tr','33')\n",
    "throughput1.sample()#eedelay2.sample(1.5) for sampling with step=1.5\n",
    "throughput1.plot()\n",
    "#getting data\n",
    "time=throughput1.time_sample\n",
    "throughput=throughput1.throughput_sample\n",
    "idx=0\n",
    "for instant in time:\n",
    "    print(instant,' ',throughput[idx]) \n",
    "    idx+=1"
   ]
  },
  {
   "cell_type": "code",
   "execution_count": null,
   "metadata": {},
   "outputs": [],
   "source": [
    "#Throughput\n",
    "throughput1=tr.Throughput('d.tr','33')\n",
    "throughput1.sample()#eedelay2.sample(1.5) for sampling with step=1.5\n",
    "throughput1.plot()\n",
    "#getting data\n",
    "time=throughput1.time_sample\n",
    "throughput=throughput1.throughput_sample\n",
    "idx=0\n",
    "for instant in time:\n",
    "    print(instant,' ',throughput[idx]) \n",
    "    idx+=1"
   ]
  }
 ],
 "metadata": {
  "kernelspec": {
   "display_name": "Python 3",
   "language": "python",
   "name": "python3"
  },
  "language_info": {
   "codemirror_mode": {
    "name": "ipython",
    "version": 3
   },
   "file_extension": ".py",
   "mimetype": "text/x-python",
   "name": "python",
   "nbconvert_exporter": "python",
   "pygments_lexer": "ipython3",
   "version": "3.10.8"
  },
  "orig_nbformat": 4
 },
 "nbformat": 4,
 "nbformat_minor": 2
}
